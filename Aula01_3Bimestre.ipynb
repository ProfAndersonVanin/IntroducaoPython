{
  "nbformat": 4,
  "nbformat_minor": 0,
  "metadata": {
    "colab": {
      "provenance": [],
      "authorship_tag": "ABX9TyNxo3gIXCC/KXWqzCDC7K5T",
      "include_colab_link": true
    },
    "kernelspec": {
      "name": "python3",
      "display_name": "Python 3"
    },
    "language_info": {
      "name": "python"
    }
  },
  "cells": [
    {
      "cell_type": "markdown",
      "metadata": {
        "id": "view-in-github",
        "colab_type": "text"
      },
      "source": [
        "<a href=\"https://colab.research.google.com/github/ProfAndersonVanin/IntroducaoPython/blob/main/Aula01_3Bimestre.ipynb\" target=\"_parent\"><img src=\"https://colab.research.google.com/assets/colab-badge.svg\" alt=\"Open In Colab\"/></a>"
      ]
    },
    {
      "cell_type": "markdown",
      "source": [
        "Exemplo 1 - Somando dois números"
      ],
      "metadata": {
        "id": "HCQ5kDAyFgmn"
      }
    },
    {
      "cell_type": "code",
      "source": [
        "n1 = 12\n",
        "n2 = 10\n",
        "soma = n1 + n2\n",
        "soma"
      ],
      "metadata": {
        "colab": {
          "base_uri": "https://localhost:8080/"
        },
        "id": "-xBCZh-0Fp6t",
        "outputId": "fd1aa6a6-418e-43d3-ab64-ca8c9d7c15b5"
      },
      "execution_count": null,
      "outputs": [
        {
          "output_type": "execute_result",
          "data": {
            "text/plain": [
              "22"
            ]
          },
          "metadata": {},
          "execution_count": 1
        }
      ]
    },
    {
      "cell_type": "code",
      "source": [
        "print(\"A soma é: \",soma)"
      ],
      "metadata": {
        "colab": {
          "base_uri": "https://localhost:8080/"
        },
        "id": "zN5FXrncGRiM",
        "outputId": "736aea59-f9ca-4b31-a783-c100e0d9a88d"
      },
      "execution_count": null,
      "outputs": [
        {
          "output_type": "stream",
          "name": "stdout",
          "text": [
            "A soma é:  22\n"
          ]
        }
      ]
    },
    {
      "cell_type": "code",
      "source": [
        "print(\"A soma é {}\".format(soma))"
      ],
      "metadata": {
        "colab": {
          "base_uri": "https://localhost:8080/"
        },
        "id": "eV7hqaOLGlud",
        "outputId": "aee53703-bc05-4d78-adfa-e989e54ff332"
      },
      "execution_count": null,
      "outputs": [
        {
          "output_type": "stream",
          "name": "stdout",
          "text": [
            "A soma é 22\n"
          ]
        }
      ]
    },
    {
      "cell_type": "code",
      "source": [
        "print(\"A soma de {} com {} é {}\".format(n1,n2,soma))"
      ],
      "metadata": {
        "colab": {
          "base_uri": "https://localhost:8080/"
        },
        "id": "DfJQ0DVPHkiZ",
        "outputId": "d1746a2e-0182-4ae3-8e7e-342811a32d93"
      },
      "execution_count": null,
      "outputs": [
        {
          "output_type": "stream",
          "name": "stdout",
          "text": [
            "A soma de 12 com 10 é 22\n"
          ]
        }
      ]
    },
    {
      "cell_type": "markdown",
      "source": [
        "Operadores Aritméticos"
      ],
      "metadata": {
        "id": "Z4m6T36hIDWh"
      }
    },
    {
      "cell_type": "code",
      "source": [
        "10 + 10"
      ],
      "metadata": {
        "colab": {
          "base_uri": "https://localhost:8080/"
        },
        "id": "yDyyoYJaIG5F",
        "outputId": "b01d233a-6983-4932-e19a-ec50aee359b8"
      },
      "execution_count": null,
      "outputs": [
        {
          "output_type": "execute_result",
          "data": {
            "text/plain": [
              "20"
            ]
          },
          "metadata": {},
          "execution_count": 6
        }
      ]
    },
    {
      "cell_type": "code",
      "source": [
        "10 - 5"
      ],
      "metadata": {
        "colab": {
          "base_uri": "https://localhost:8080/"
        },
        "id": "cBfoJ8V8INET",
        "outputId": "f87c810a-7471-4245-8794-b19a25f68d86"
      },
      "execution_count": null,
      "outputs": [
        {
          "output_type": "execute_result",
          "data": {
            "text/plain": [
              "5"
            ]
          },
          "metadata": {},
          "execution_count": 7
        }
      ]
    },
    {
      "cell_type": "code",
      "source": [
        "10 * 2"
      ],
      "metadata": {
        "colab": {
          "base_uri": "https://localhost:8080/"
        },
        "id": "gLB0MI-oIVbr",
        "outputId": "bb28f83b-ad03-4b0d-947c-2b0b351c20bb"
      },
      "execution_count": null,
      "outputs": [
        {
          "output_type": "execute_result",
          "data": {
            "text/plain": [
              "20"
            ]
          },
          "metadata": {},
          "execution_count": 8
        }
      ]
    },
    {
      "cell_type": "code",
      "source": [
        "10 / 3"
      ],
      "metadata": {
        "colab": {
          "base_uri": "https://localhost:8080/"
        },
        "id": "xXZA_oXSIYy8",
        "outputId": "5191ca5d-f0a3-4fc6-dfe5-ebdf77741926"
      },
      "execution_count": null,
      "outputs": [
        {
          "output_type": "execute_result",
          "data": {
            "text/plain": [
              "3.3333333333333335"
            ]
          },
          "metadata": {},
          "execution_count": 9
        }
      ]
    },
    {
      "cell_type": "code",
      "source": [
        "10 // 3"
      ],
      "metadata": {
        "colab": {
          "base_uri": "https://localhost:8080/"
        },
        "id": "hDTFlFHDIc1J",
        "outputId": "df08d2c3-8768-46e2-8026-c3f5e73e8b48"
      },
      "execution_count": null,
      "outputs": [
        {
          "output_type": "execute_result",
          "data": {
            "text/plain": [
              "3"
            ]
          },
          "metadata": {},
          "execution_count": 11
        }
      ]
    },
    {
      "cell_type": "code",
      "source": [
        "10%2"
      ],
      "metadata": {
        "colab": {
          "base_uri": "https://localhost:8080/"
        },
        "id": "hFUBD2MYI8ri",
        "outputId": "286fe832-967d-45ce-bc73-3e8f56b1743a"
      },
      "execution_count": null,
      "outputs": [
        {
          "output_type": "execute_result",
          "data": {
            "text/plain": [
              "0"
            ]
          },
          "metadata": {},
          "execution_count": 12
        }
      ]
    },
    {
      "cell_type": "code",
      "source": [
        "2**3"
      ],
      "metadata": {
        "colab": {
          "base_uri": "https://localhost:8080/"
        },
        "id": "C3ci0EkAJKPm",
        "outputId": "85b8934e-ac69-4eb6-8866-e91f05347eb9"
      },
      "execution_count": null,
      "outputs": [
        {
          "output_type": "execute_result",
          "data": {
            "text/plain": [
              "8"
            ]
          },
          "metadata": {},
          "execution_count": 13
        }
      ]
    },
    {
      "cell_type": "code",
      "source": [
        "64**(1/2)"
      ],
      "metadata": {
        "colab": {
          "base_uri": "https://localhost:8080/"
        },
        "id": "lqk2Lm1kJaXD",
        "outputId": "61dee829-96d1-4e49-ce9c-d6ac74eac27f"
      },
      "execution_count": null,
      "outputs": [
        {
          "output_type": "execute_result",
          "data": {
            "text/plain": [
              "8.0"
            ]
          },
          "metadata": {},
          "execution_count": 14
        }
      ]
    },
    {
      "cell_type": "markdown",
      "source": [
        "Operadores Lógicos"
      ],
      "metadata": {
        "id": "7Xi4qv95Jytn"
      }
    },
    {
      "cell_type": "code",
      "source": [
        "a = True\n",
        "b = False"
      ],
      "metadata": {
        "id": "nmdEZwkvJ4WD"
      },
      "execution_count": null,
      "outputs": []
    },
    {
      "cell_type": "code",
      "source": [
        "a and b"
      ],
      "metadata": {
        "colab": {
          "base_uri": "https://localhost:8080/"
        },
        "id": "LIExWW4cKjOW",
        "outputId": "cc2bb1c2-cb5e-4405-c7c4-5cc7ca1808fc"
      },
      "execution_count": null,
      "outputs": [
        {
          "output_type": "execute_result",
          "data": {
            "text/plain": [
              "False"
            ]
          },
          "metadata": {},
          "execution_count": 16
        }
      ]
    },
    {
      "cell_type": "markdown",
      "source": [
        "![image.png](data:image/png;base64,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)"
      ],
      "metadata": {
        "id": "fkkRkz2gMtgu"
      }
    },
    {
      "cell_type": "markdown",
      "source": [
        "Operadores Relacionais"
      ],
      "metadata": {
        "id": "Q5Kfl75xNCGq"
      }
    },
    {
      "cell_type": "code",
      "source": [
        "10 > 10"
      ],
      "metadata": {
        "colab": {
          "base_uri": "https://localhost:8080/"
        },
        "id": "extYYHkfNHGX",
        "outputId": "ba8e9324-a4e5-4d15-a82e-42e786beb906"
      },
      "execution_count": null,
      "outputs": [
        {
          "output_type": "execute_result",
          "data": {
            "text/plain": [
              "False"
            ]
          },
          "metadata": {},
          "execution_count": 17
        }
      ]
    },
    {
      "cell_type": "code",
      "source": [
        "10 == 10"
      ],
      "metadata": {
        "colab": {
          "base_uri": "https://localhost:8080/"
        },
        "id": "rvZZ7SK8NZkm",
        "outputId": "cd412727-ccde-49c1-b391-2cb0215b363a"
      },
      "execution_count": null,
      "outputs": [
        {
          "output_type": "execute_result",
          "data": {
            "text/plain": [
              "True"
            ]
          },
          "metadata": {},
          "execution_count": 18
        }
      ]
    },
    {
      "cell_type": "code",
      "source": [
        "'A' == 'a'"
      ],
      "metadata": {
        "colab": {
          "base_uri": "https://localhost:8080/"
        },
        "id": "KmHysLcTNeVU",
        "outputId": "29d72bfd-7514-4a7b-8539-06caa75e3fab"
      },
      "execution_count": null,
      "outputs": [
        {
          "output_type": "execute_result",
          "data": {
            "text/plain": [
              "False"
            ]
          },
          "metadata": {},
          "execution_count": 20
        }
      ]
    },
    {
      "cell_type": "code",
      "source": [
        "t1 = 10\n",
        "t2 = '10'\n",
        "t1 == t2"
      ],
      "metadata": {
        "colab": {
          "base_uri": "https://localhost:8080/"
        },
        "id": "Kvb2UnXROZee",
        "outputId": "91393a55-aeb3-4425-f52c-683399d3d4ba"
      },
      "execution_count": null,
      "outputs": [
        {
          "output_type": "execute_result",
          "data": {
            "text/plain": [
              "False"
            ]
          },
          "metadata": {},
          "execution_count": 22
        }
      ]
    },
    {
      "cell_type": "code",
      "source": [
        "type(t1)"
      ],
      "metadata": {
        "colab": {
          "base_uri": "https://localhost:8080/"
        },
        "id": "Y6ZcMyTHOmFr",
        "outputId": "5088f087-8a6c-4614-eea8-052c2f8cf7d3"
      },
      "execution_count": null,
      "outputs": [
        {
          "output_type": "execute_result",
          "data": {
            "text/plain": [
              "int"
            ]
          },
          "metadata": {},
          "execution_count": 23
        }
      ]
    },
    {
      "cell_type": "code",
      "source": [
        "type(t2)"
      ],
      "metadata": {
        "colab": {
          "base_uri": "https://localhost:8080/"
        },
        "id": "JtPNmqQbO7Ww",
        "outputId": "63038e8f-f8f5-4454-d975-67a1b8e8e0d6"
      },
      "execution_count": null,
      "outputs": [
        {
          "output_type": "execute_result",
          "data": {
            "text/plain": [
              "str"
            ]
          },
          "metadata": {},
          "execution_count": 24
        }
      ]
    },
    {
      "cell_type": "markdown",
      "source": [
        "Conversão de tipos"
      ],
      "metadata": {
        "id": "tnPSLBD4PDGo"
      }
    },
    {
      "cell_type": "code",
      "source": [
        "novo_t2 = int(t2)\n",
        "novo_t2"
      ],
      "metadata": {
        "colab": {
          "base_uri": "https://localhost:8080/"
        },
        "id": "JRcUvp11PFvQ",
        "outputId": "72005d8e-e05a-40e5-dc07-44caf6acc044"
      },
      "execution_count": null,
      "outputs": [
        {
          "output_type": "execute_result",
          "data": {
            "text/plain": [
              "10"
            ]
          },
          "metadata": {},
          "execution_count": 25
        }
      ]
    },
    {
      "cell_type": "code",
      "source": [
        "type(novo_t2)"
      ],
      "metadata": {
        "colab": {
          "base_uri": "https://localhost:8080/"
        },
        "id": "upiPKA2qPiQt",
        "outputId": "60fb5d28-5240-4dbd-c695-06e9b0f01c4c"
      },
      "execution_count": null,
      "outputs": [
        {
          "output_type": "execute_result",
          "data": {
            "text/plain": [
              "int"
            ]
          },
          "metadata": {},
          "execution_count": 26
        }
      ]
    },
    {
      "cell_type": "code",
      "source": [
        "t1 == novo_t2"
      ],
      "metadata": {
        "colab": {
          "base_uri": "https://localhost:8080/"
        },
        "id": "bksGEMNOPkhN",
        "outputId": "b442f52b-d70e-42e8-a018-8b33a2c913b8"
      },
      "execution_count": null,
      "outputs": [
        {
          "output_type": "execute_result",
          "data": {
            "text/plain": [
              "True"
            ]
          },
          "metadata": {},
          "execution_count": 27
        }
      ]
    },
    {
      "cell_type": "markdown",
      "source": [
        "Recebendo dados via input"
      ],
      "metadata": {
        "id": "yO1Z6tPqP1iE"
      }
    },
    {
      "cell_type": "code",
      "source": [
        "nome = input('Digite seu nome')"
      ],
      "metadata": {
        "colab": {
          "base_uri": "https://localhost:8080/"
        },
        "id": "OR2CQOdJP4hI",
        "outputId": "d620d548-6cda-4bd1-e32c-951b5f468c13"
      },
      "execution_count": null,
      "outputs": [
        {
          "name": "stdout",
          "output_type": "stream",
          "text": [
            "Digite seu nomeANDERSON\n"
          ]
        }
      ]
    },
    {
      "cell_type": "code",
      "source": [
        "nome"
      ],
      "metadata": {
        "colab": {
          "base_uri": "https://localhost:8080/",
          "height": 35
        },
        "id": "xfYZ7AuYQIve",
        "outputId": "9b3c3c4d-366a-4d50-8459-db9b17f581d2"
      },
      "execution_count": null,
      "outputs": [
        {
          "output_type": "execute_result",
          "data": {
            "text/plain": [
              "'ANDERSON'"
            ],
            "application/vnd.google.colaboratory.intrinsic+json": {
              "type": "string"
            }
          },
          "metadata": {},
          "execution_count": 29
        }
      ]
    },
    {
      "cell_type": "code",
      "source": [
        "idade = int(input('Digite sua idade '))"
      ],
      "metadata": {
        "colab": {
          "base_uri": "https://localhost:8080/"
        },
        "id": "ImlaXSDoQPhW",
        "outputId": "fd8ee567-b61c-472a-b22c-6275a326a6e2"
      },
      "execution_count": null,
      "outputs": [
        {
          "name": "stdout",
          "output_type": "stream",
          "text": [
            "Digite sua idade 25\n"
          ]
        }
      ]
    },
    {
      "cell_type": "code",
      "source": [
        "idade"
      ],
      "metadata": {
        "colab": {
          "base_uri": "https://localhost:8080/"
        },
        "id": "DbNv2lytQXfz",
        "outputId": "64e988ab-88a8-41d9-8b81-87d46713b8a6"
      },
      "execution_count": null,
      "outputs": [
        {
          "output_type": "execute_result",
          "data": {
            "text/plain": [
              "25"
            ]
          },
          "metadata": {},
          "execution_count": 35
        }
      ]
    },
    {
      "cell_type": "code",
      "source": [
        "ano_nasc = 2023 - idade"
      ],
      "metadata": {
        "id": "4Csj6jIBQlIC"
      },
      "execution_count": null,
      "outputs": []
    },
    {
      "cell_type": "code",
      "source": [
        "ano_nasc"
      ],
      "metadata": {
        "colab": {
          "base_uri": "https://localhost:8080/"
        },
        "id": "dRbdTDXdRds1",
        "outputId": "ddfca652-f3f4-4d9b-be90-3baed7b86567"
      },
      "execution_count": null,
      "outputs": [
        {
          "output_type": "execute_result",
          "data": {
            "text/plain": [
              "1998"
            ]
          },
          "metadata": {},
          "execution_count": 38
        }
      ]
    },
    {
      "cell_type": "code",
      "source": [
        "# Olá Anderson você tem 25 anos de idade e nasceu em 1998\n",
        "print('Olá {} você tem {} anos de idade e nasceu em {}'.format(nome,idade,ano_nasc))"
      ],
      "metadata": {
        "colab": {
          "base_uri": "https://localhost:8080/"
        },
        "id": "OvMluZ5eRezE",
        "outputId": "0ce6bccd-a120-40a2-d05d-e3a983616e62"
      },
      "execution_count": null,
      "outputs": [
        {
          "output_type": "stream",
          "name": "stdout",
          "text": [
            "Olá ANDERSON você tem 25 anos de idade e nasceu em 1998\n"
          ]
        }
      ]
    },
    {
      "cell_type": "markdown",
      "source": [
        "**Exercício 01**\n",
        "Receba 3 valores digitados via teclado e calcule a média destes valores. Exiba na tela da seguinte forma:\n",
        "'A média dos valores digitados é XXX'"
      ],
      "metadata": {
        "id": "YlNJ8I6fTljN"
      }
    },
    {
      "cell_type": "markdown",
      "source": [
        "# **Nota:**\n",
        "\n",
        "*   Podemos converter para inteiro utilizando: int()\n",
        "*   Podemos converter para decimal utilizando: float()\n",
        "*   Podemos converter para String utilizando: str()\n",
        "\n",
        "\n",
        "\n",
        "\n",
        "\n",
        "\n",
        "\n"
      ],
      "metadata": {
        "id": "tHDadQq1Uk5E"
      }
    },
    {
      "cell_type": "code",
      "source": [
        "num1 = float(input('Digite o 1º número: '))\n",
        "num2 = float(input('Digite o 2º número: '))\n",
        "num3 = float(input('Digite o 3º número: '))\n",
        "media = (num1+num2+num3)/3\n",
        "print('A média é: {}'.format(media))"
      ],
      "metadata": {
        "colab": {
          "base_uri": "https://localhost:8080/"
        },
        "id": "SIq-3kyxU-A3",
        "outputId": "2a08f885-9f32-405d-8dce-9ab90471a546"
      },
      "execution_count": null,
      "outputs": [
        {
          "output_type": "stream",
          "name": "stdout",
          "text": [
            "Digite o 1º número: 5\n",
            "Digite o 2º número: 11\n",
            "Digite o 3º número: 63\n",
            "A média é: 26.333333333333332\n"
          ]
        }
      ]
    },
    {
      "cell_type": "code",
      "source": [
        "print('A média é: {}'.format(round(media,2)))"
      ],
      "metadata": {
        "colab": {
          "base_uri": "https://localhost:8080/"
        },
        "id": "quPgSFrkW4qo",
        "outputId": "2f0acbb9-1faf-41aa-d0f7-7d44c277d641"
      },
      "execution_count": null,
      "outputs": [
        {
          "output_type": "stream",
          "name": "stdout",
          "text": [
            "A média é: 26.33\n"
          ]
        }
      ]
    },
    {
      "cell_type": "markdown",
      "source": [
        "**Exercício 02**\n",
        "\n",
        "Solicite a Largura e a Altura de uma parede. Sabendo que 1 litro de tinta consegue pintar 2m² de parede, informe quantos litros de tinta serão necessários para pintar a parede informada."
      ],
      "metadata": {
        "id": "iTZ3Eyjkdlwu"
      }
    },
    {
      "cell_type": "code",
      "source": [
        "#1º passo - solicitar altura e largura da parede\n",
        "#2º passo - calcular a área desta parede\n",
        "#3º passo - sabendo a área total da parede em metros dividir pela\n",
        "# capacidade 2m² que 1 litro consegue pintar\n",
        "\n",
        "#Exemplo: para pintar uma parede que tenha largura: 5.5 metros e altura: 1.8 metros,\n",
        "# necessitaremos de 4,95 litros de tinta\n",
        "\n"
      ],
      "metadata": {
        "id": "hJ9Ef7NId5jo"
      },
      "execution_count": null,
      "outputs": []
    },
    {
      "cell_type": "code",
      "source": [
        "altura = float(input('Digite a altura da parede em metros: '))\n",
        "largura = float(input('Digite a largura da parede em metros: '))\n",
        "area = largura * altura\n",
        "litros = area/2\n",
        "print('Serão necessários {} litros de tinta'.format(litros))"
      ],
      "metadata": {
        "colab": {
          "base_uri": "https://localhost:8080/"
        },
        "id": "7B-F9D2_h6QL",
        "outputId": "dc7e8de8-78bb-4980-f14b-dd81f8baa512"
      },
      "execution_count": null,
      "outputs": [
        {
          "output_type": "stream",
          "name": "stdout",
          "text": [
            "Digite a altura da parede em metros: 1.8\n",
            "Digite a largura da parede em metros: 5.5\n",
            "Serão necessários 4.95 litros de tinta\n"
          ]
        }
      ]
    }
  ]
}